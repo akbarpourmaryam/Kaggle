{
 "cells": [
  {
   "cell_type": "code",
   "execution_count": 1,
   "id": "c9781edc",
   "metadata": {},
   "outputs": [
    {
     "name": "stdout",
     "output_type": "stream",
     "text": [
      "ROC AUC: 0.9770\n"
     ]
    }
   ],
   "source": [
    "import pandas as pd\n",
    "import numpy as np\n",
    "from sklearn.model_selection import train_test_split\n",
    "from sklearn.linear_model import LogisticRegressionCV\n",
    "from sklearn.metrics import roc_auc_score\n",
    "from sklearn.preprocessing import OneHotEncoder\n",
    "from sklearn.compose import ColumnTransformer\n",
    "from sklearn.pipeline import Pipeline\n",
    "from catboost import CatBoostClassifier\n",
    "\n",
    "\n",
    "# Read data\n",
    "train = pd.read_csv('/Users/maryamakbarpour/Projects/Kaggle/Exploring_Mental_Health_Data/data/train.csv')\n",
    "test = pd.read_csv('/Users/maryamakbarpour/Projects/Kaggle/Exploring_Mental_Health_Data/data/test.csv')\n",
    "\n",
    "# Handle missing values\n",
    "train.fillna(0, inplace=True)\n",
    "test.fillna(0, inplace=True)\n",
    "\n",
    "# Reduce memory usage (optimized types)\n",
    "def reduce_mem_usage(df):\n",
    "    for col in df.select_dtypes(include=['int', 'float']).columns:\n",
    "        df[col] = pd.to_numeric(df[col], downcast='float')\n",
    "    return df\n",
    "\n",
    "train = reduce_mem_usage(train)\n",
    "test = reduce_mem_usage(test)\n",
    "\n",
    "# Prepare features and target\n",
    "X = train.drop(columns=['Depression'])\n",
    "y = train['Depression']\n",
    "\n",
    "# Identify categorical columns\n",
    "categorical_cols = X.select_dtypes(include=['object']).columns\n",
    "\n",
    "# Preprocessing pipeline for categorical features (One-Hot Encoding)\n",
    "preprocessor = ColumnTransformer(\n",
    "    transformers=[\n",
    "        ('cat', OneHotEncoder(handle_unknown='ignore'), categorical_cols)\n",
    "    ],\n",
    "    remainder='passthrough'  # keep the other columns unchanged\n",
    ")\n",
    "\n",
    "# Create a pipeline that first preprocesses the data then fits a Logistic Regression model\n",
    "pipeline = Pipeline(steps=[\n",
    "    ('preprocessor', preprocessor),\n",
    "    ('classifier', CatBoostClassifier(silent=True))  # Cross-validation with logistic regression\n",
    "])\n",
    "\n",
    "# Split into train and validation sets\n",
    "X_train, X_val, y_train, y_val = train_test_split(X, y, test_size=0.2, random_state=42)\n",
    "\n",
    "# Convert all categorical columns to strings (if necessary)\n",
    "for col in categorical_cols:\n",
    "    X_train[col] = X_train[col].astype(str)\n",
    "    X_val[col] = X_val[col].astype(str)\n",
    "\n",
    "# Fit the pipeline\n",
    "pipeline.fit(X_train, y_train)\n",
    "\n",
    "# Evaluate on validation set\n",
    "y_pred_proba = pipeline.predict_proba(X_val)[:, 1]  # Assuming binary classification\n",
    "roc_auc = roc_auc_score(y_val, y_pred_proba, average='macro', multi_class='ovr')\n",
    "print(f\"ROC AUC: {roc_auc:.4f}\")\n",
    "\n",
    "# Predict on test data\n",
    "y_test_pred_proba = pipeline.predict_proba(test)[:, 1]  # Get probabilities\n",
    "\n",
    "# Binarize predictions at 0.5 threshold\n",
    "df = pd.DataFrame(y_test_pred_proba, columns=['Depression'])\n",
    "df['Depression'] = (df['Depression'] > 0.5).astype(int)\n",
    "\n",
    "df['id'] = test['id']\n",
    "\n",
    "# Save the predictions along with 'id' to CSV\n",
    "df[['id', 'Depression']].to_csv('/Users/maryamakbarpour/Projects/Kaggle/Exploring_Mental_Health_Data/LightAutoML_simple_predictions.csv', index=False)\n"
   ]
  },
  {
   "cell_type": "code",
   "execution_count": null,
   "id": "2f4c1fce",
   "metadata": {},
   "outputs": [],
   "source": []
  }
 ],
 "metadata": {
  "kernelspec": {
   "display_name": "Python 3 (ipykernel)",
   "language": "python",
   "name": "python3"
  },
  "language_info": {
   "codemirror_mode": {
    "name": "ipython",
    "version": 3
   },
   "file_extension": ".py",
   "mimetype": "text/x-python",
   "name": "python",
   "nbconvert_exporter": "python",
   "pygments_lexer": "ipython3",
   "version": "3.9.12"
  }
 },
 "nbformat": 4,
 "nbformat_minor": 5
}
